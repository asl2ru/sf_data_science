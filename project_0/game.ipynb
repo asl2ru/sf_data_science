{
 "cells": [
  {
   "cell_type": "markdown",
   "source": [
    "## Игра угадай число"
   ],
   "metadata": {}
  },
  {
   "cell_type": "code",
   "execution_count": 1,
   "source": [
    "from game_v3 import score_game\n",
    "from game_v3 import random_predict\n",
    "from game_v3 import random_division_predict\n",
    "from game_v3 import by_category_predict\n",
    "from game_v3 import half_division_predict"
   ],
   "outputs": [],
   "metadata": {}
  },
  {
   "cell_type": "markdown",
   "source": [
    "## Алгоритм случайного угадывания"
   ],
   "metadata": {}
  },
  {
   "cell_type": "code",
   "execution_count": 2,
   "source": [
    "score_game(random_predict)"
   ],
   "outputs": [
    {
     "output_type": "stream",
     "name": "stdout",
     "text": [
      "Алгоритм находит число в среднем за 99 итераций. 0.35995 секунд на 1000 наблюдений\n"
     ]
    }
   ],
   "metadata": {}
  },
  {
   "cell_type": "markdown",
   "source": [
    "## Алгоритм случайного деления"
   ],
   "metadata": {}
  },
  {
   "cell_type": "markdown",
   "source": [],
   "metadata": {}
  },
  {
   "cell_type": "code",
   "execution_count": 3,
   "source": [
    "score_game(random_division_predict)"
   ],
   "outputs": [
    {
     "output_type": "stream",
     "name": "stdout",
     "text": [
      "Алгоритм находит число в среднем за 8 итераций. 0.0569 секунд на 1000 наблюдений\n"
     ]
    }
   ],
   "metadata": {}
  },
  {
   "cell_type": "markdown",
   "source": [
    "## Алгоритм поиска по разрядам"
   ],
   "metadata": {}
  },
  {
   "cell_type": "code",
   "execution_count": 4,
   "source": [
    "score_game(by_category_predict)"
   ],
   "outputs": [
    {
     "output_type": "stream",
     "name": "stdout",
     "text": [
      "Алгоритм находит число в среднем за 5 итераций. 0.00653 секунд на 1000 наблюдений\n"
     ]
    }
   ],
   "metadata": {}
  },
  {
   "cell_type": "markdown",
   "source": [
    "## Алгоритм половинного деления"
   ],
   "metadata": {}
  },
  {
   "cell_type": "code",
   "execution_count": 5,
   "source": [
    "score_game(half_division_predict)"
   ],
   "outputs": [
    {
     "output_type": "stream",
     "name": "stdout",
     "text": [
      "Алгоритм находит число в среднем за 4 итераций. 0.00292 секунд на 1000 наблюдений\n"
     ]
    }
   ],
   "metadata": {}
  },
  {
   "cell_type": "code",
   "execution_count": null,
   "source": [],
   "outputs": [],
   "metadata": {}
  }
 ],
 "metadata": {
  "orig_nbformat": 4,
  "language_info": {
   "name": "python",
   "version": "3.8.11",
   "mimetype": "text/x-python",
   "codemirror_mode": {
    "name": "ipython",
    "version": 3
   },
   "pygments_lexer": "ipython3",
   "nbconvert_exporter": "python",
   "file_extension": ".py"
  },
  "kernelspec": {
   "name": "python3",
   "display_name": "Python 3.8.11 64-bit ('sf': conda)"
  },
  "interpreter": {
   "hash": "cd15f2734d0cc525065240c4410f22bae0bd2a8dac10d4ff641ff62d5e7d78eb"
  }
 },
 "nbformat": 4,
 "nbformat_minor": 2
}